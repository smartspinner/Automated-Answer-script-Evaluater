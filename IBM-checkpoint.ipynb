{
 "cells": [
  {
   "cell_type": "code",
   "execution_count": 26,
   "metadata": {},
   "outputs": [
    {
     "name": "stdout",
     "output_type": "stream",
     "text": [
      "['financial benefits', 'Industrial revolution', 'raw materials']\n",
      "['Zamindari system', 'heavy taxes', 'hefty taxes']\n",
      "['annexation of Awadh', 'new regime', 'sentiments of the Company']\n",
      "['Greased Cartridges Incident', 'rumours of cartridges', 'incident']\n"
     ]
    }
   ],
   "source": [
    "import json\n",
    "from ibm_watson import NaturalLanguageUnderstandingV1\n",
    "from ibm_watson.natural_language_understanding_v1 import Features, KeywordsOptions\n",
    "\n",
    "natural_language_understanding = NaturalLanguageUnderstandingV1(\n",
    "    version='2019-07-12',\n",
    "    iam_apikey='zKER0-EWLh9GEQXwCp9Y-W9WIQqLFp2bUvpbSAa29oID',\n",
    "    url='https://gateway-syd.watsonplatform.net/natural-language-understanding/api'\n",
    ")\n",
    "def create_keywords(sub_name):\n",
    "            f=Document(sub_name+'AnswerKey.docx')\n",
    "            list_key=[]\n",
    "            for i in f.paragraphs:\n",
    "                response = natural_language_understanding.analyze(\n",
    "                text=i.text,\n",
    "                    #     text='The Zamindari system was created, under which the Zamindars were burdened by hefty taxes and were forced to impose heavy taxes on the poor peasants. In case the former was unable to pay back any loan, his land would be transferred to the moneylender.',\n",
    "                features=Features(keywords=KeywordsOptions(limit=3))).get_result()\n",
    "\n",
    "                results=json.dumps(response, indent=2)\n",
    "    #             print(results)\n",
    "                text=''\n",
    "                start=results.find('keywords')\n",
    "                end=results.rfind(']')\n",
    "                for i in range(start,end):\n",
    "                    text+=results[i]\n",
    "#                 print(text)\n",
    "                cor_text=text\n",
    "                keywords=[]\n",
    "                for i in range(0,3):\n",
    "                    result = re.search('text\":(.*)\",', cor_text)\n",
    "                    cor_text=cor_text[cor_text.find(result.group(1)):]\n",
    "                    keywords.append(result.group(1)[2:])\n",
    "                print(keywords)\n",
    "                list_key.append(keywords)\n",
    "                df = pd.DataFrame(list_key)\n",
    "                print(df)\n",
    "#                 with open(sub_name+\"_keywords.csv\", 'a') as csvFile:\n",
    "#                         writer = csv.writer(csvFile)\n",
    "#                         writer.writerow(keywords)\n",
    "#                         csvFile.close()\n",
    "            df.to_csv(sub_name+'_keywords.csv',header=False,)\n",
    "create_keywords('Social')"
   ]
  },
  {
   "cell_type": "code",
   "execution_count": null,
   "metadata": {},
   "outputs": [],
   "source": []
  },
  {
   "cell_type": "code",
   "execution_count": 3,
   "metadata": {},
   "outputs": [
    {
     "name": "stdout",
     "output_type": "stream",
     "text": [
      "keywords\": [\n",
      "    {\n",
      "      \"text\": \"financial benefits\",\n",
      "      \"relevance\": 0.896729,\n",
      "      \"count\": 1\n",
      "    },\n",
      "    {\n",
      "      \"text\": \"Industrial revolution\",\n",
      "      \"relevance\": 0.884926,\n",
      "      \"count\": 1\n",
      "    },\n",
      "    {\n",
      "      \"text\": \"raw materials\",\n",
      "      \"relevance\": 0.77175,\n",
      "      \"count\": 1\n",
      "    }\n",
      "  \n"
     ]
    }
   ],
   "source": [
    "text=''\n",
    "start=results.find('keywords')\n",
    "end=results.rfind(']')\n",
    "for i in range(start,end):\n",
    "    text+=results[i]\n",
    "print(text)"
   ]
  },
  {
   "cell_type": "code",
   "execution_count": 31,
   "metadata": {},
   "outputs": [],
   "source": [
    "import re\n",
    "cor_text=text\n",
    "keywords=[]\n",
    "for i in range(0,3):\n",
    "    result = re.search('text\":(.*)\",', cor_text)\n",
    "    cor_text=cor_text[cor_text.find(result.group(1)):]\n",
    "    keywords.append(result.group(1)[2:])"
   ]
  },
  {
   "cell_type": "code",
   "execution_count": 15,
   "metadata": {},
   "outputs": [],
   "source": [
    "import pandas as pd\n",
    "import csv\n",
    "import re"
   ]
  },
  {
   "cell_type": "code",
   "execution_count": 44,
   "metadata": {},
   "outputs": [],
   "source": [
    "def create_csv(sub_name):\n",
    "    with open(sub_name+\"_keywords.csv\", 'a') as csvFile:\n",
    "        writer = csv.writer(csvFile)\n",
    "        writer.writerow(keywords)\n",
    "    csvFile.close()"
   ]
  },
  {
   "cell_type": "code",
   "execution_count": 47,
   "metadata": {},
   "outputs": [],
   "source": [
    "create_csv('social')"
   ]
  },
  {
   "cell_type": "code",
   "execution_count": 4,
   "metadata": {},
   "outputs": [],
   "source": [
    "from docx import Document"
   ]
  },
  {
   "cell_type": "code",
   "execution_count": 6,
   "metadata": {},
   "outputs": [],
   "source": [
    "f=Document(\"C:\\\\Users\\\\clpan\\\\Downloads\\\\Social_Mistakes.docx\")"
   ]
  },
  {
   "cell_type": "code",
   "execution_count": 11,
   "metadata": {},
   "outputs": [
    {
     "name": "stdout",
     "output_type": "stream",
     "text": [
      "Line<docx.text.paragraph.Paragraph object at 0x00000218CBAB1978>India was exploited by British traders because the British always tried to make the Indian farmers grow Indigo crops. The indigo crops were to be grown on most of their land and they weren’t allowed to grow any other crops. This made their land poor and unyielding.\n",
      "Line<docx.text.paragraph.Paragraph object at 0x00000218CBAB19B0>The Zamindari system was built to impose heavy taxes on poor peasants. If these peasants were unable to pay the taxes, their land would be transferred to moneylenders.\n",
      "Line<docx.text.paragraph.Paragraph object at 0x00000218CBAB19E8>The Nawabs of Awadh had loyal supporters of the British Raj, because of which, the annexation was greatly resented. It was hurtful to the sentiments of the Company’s sepoys because most of them came from Awadh. Even then, the people of Awadh got no relief from oppression.\n",
      "Line<docx.text.paragraph.Paragraph object at 0x00000218CBAB1A20>The immediate cause for the revolt was when Mangal Pandey of the Barackpore contonement in Meerut shot a British officer in Meerut. He was unhappy with the way the British had dealt with the famine in Bengal and decided to take action. Mangal Pandey was later executed by  the British Raj but had started a revolt in the country. Both Hindus and Muslims were unhappy\n",
      "Line<docx.text.paragraph.Paragraph object at 0x00000218CBAB1B70>\n",
      "Line<docx.text.paragraph.Paragraph object at 0x00000218CBAB1A90>\n"
     ]
    }
   ],
   "source": [
    "for i in f.paragraphs:\n",
    "    print(\"Line\"+str(i)+i.text)"
   ]
  },
  {
   "cell_type": "code",
   "execution_count": 25,
   "metadata": {},
   "outputs": [
    {
     "ename": "NameError",
     "evalue": "name 'keywords' is not defined",
     "output_type": "error",
     "traceback": [
      "\u001b[1;31m---------------------------------------------------------------------------\u001b[0m",
      "\u001b[1;31mNameError\u001b[0m                                 Traceback (most recent call last)",
      "\u001b[1;32m<ipython-input-25-87ac60130bb1>\u001b[0m in \u001b[0;36m<module>\u001b[1;34m()\u001b[0m\n\u001b[1;32m----> 1\u001b[1;33m \u001b[0mprint\u001b[0m\u001b[1;33m(\u001b[0m\u001b[0mkeywords\u001b[0m\u001b[1;33m)\u001b[0m\u001b[1;33m\u001b[0m\u001b[0m\n\u001b[0m",
      "\u001b[1;31mNameError\u001b[0m: name 'keywords' is not defined"
     ]
    }
   ],
   "source": [
    "print(keywords)"
   ]
  },
  {
   "cell_type": "code",
   "execution_count": null,
   "metadata": {},
   "outputs": [],
   "source": []
  }
 ],
 "metadata": {
  "kernelspec": {
   "display_name": "Python 3",
   "language": "python",
   "name": "python3"
  }
 },
 "nbformat": 4,
 "nbformat_minor": 2
}
